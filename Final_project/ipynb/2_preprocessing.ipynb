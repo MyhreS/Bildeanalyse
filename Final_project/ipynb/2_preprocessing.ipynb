{
 "cells": [
  {
   "cell_type": "markdown",
   "metadata": {
    "collapsed": true,
    "pycharm": {
     "name": "#%% md\n"
    }
   },
   "source": [
    "# Imports"
   ],
   "execution_count": 0
  },
  {
   "cell_type": "code",
   "execution_count": 56,
   "outputs": [],
   "source": [
    "import cv2\n",
    "import imgaug as ia\n",
    "import imgaug.augmenters as iaa\n",
    "import pandas as pd\n",
    "import numpy as np\n",
    "import matplotlib.pyplot as plt\n",
    "import os\n",
    "import shutil\n",
    "import glob"
   ],
   "metadata": {
    "collapsed": false,
    "pycharm": {
     "name": "#%%\n"
    }
   }
  },
  {
   "cell_type": "markdown",
   "source": [
    "# Preprocessing 'characters'\n"
   ],
   "metadata": {
    "collapsed": false,
    "pycharm": {
     "name": "#%% md\n"
    }
   }
  },
  {
   "cell_type": "code",
   "execution_count": 57,
   "outputs": [
    {
     "data": {
      "text/plain": "                image label\n0  Img/img001-001.png     0\n1  Img/img001-002.png     0\n2  Img/img001-003.png     0\n3  Img/img001-004.png     0\n4  Img/img001-005.png     0",
      "text/html": "<div>\n<style scoped>\n    .dataframe tbody tr th:only-of-type {\n        vertical-align: middle;\n    }\n\n    .dataframe tbody tr th {\n        vertical-align: top;\n    }\n\n    .dataframe thead th {\n        text-align: right;\n    }\n</style>\n<table border=\"1\" class=\"dataframe\">\n  <thead>\n    <tr style=\"text-align: right;\">\n      <th></th>\n      <th>image</th>\n      <th>label</th>\n    </tr>\n  </thead>\n  <tbody>\n    <tr>\n      <th>0</th>\n      <td>Img/img001-001.png</td>\n      <td>0</td>\n    </tr>\n    <tr>\n      <th>1</th>\n      <td>Img/img001-002.png</td>\n      <td>0</td>\n    </tr>\n    <tr>\n      <th>2</th>\n      <td>Img/img001-003.png</td>\n      <td>0</td>\n    </tr>\n    <tr>\n      <th>3</th>\n      <td>Img/img001-004.png</td>\n      <td>0</td>\n    </tr>\n    <tr>\n      <th>4</th>\n      <td>Img/img001-005.png</td>\n      <td>0</td>\n    </tr>\n  </tbody>\n</table>\n</div>"
     },
     "execution_count": 57,
     "metadata": {},
     "output_type": "execute_result"
    }
   ],
   "source": [
    "\"\"\"\n",
    "Handling the labels\n",
    "\"\"\"\n",
    "# Reading labels\n",
    "labels = pd.read_csv('characters/english.csv')\n",
    "labels.head()"
   ],
   "metadata": {
    "collapsed": false,
    "pycharm": {
     "name": "#%%\n"
    }
   }
  },
  {
   "cell_type": "code",
   "execution_count": 58,
   "outputs": [
    {
     "name": "stdout",
     "output_type": "stream",
     "text": [
      "['0' '1' '2' '3' '4' '5' '6' '7' '8' '9' 'A' 'B' 'C' 'D' 'E' 'F' 'G' 'H'\n",
      " 'I' 'J' 'K' 'L' 'M' 'N' 'O' 'P' 'Q' 'R' 'S' 'T' 'U' 'V' 'W' 'X' 'Y' 'Z'\n",
      " 'a' 'b' 'c' 'd' 'e' 'f' 'g' 'h' 'i' 'j' 'k' 'l' 'm' 'n' 'o' 'p' 'q' 'r'\n",
      " 's' 't' 'u' 'v' 'w' 'x' 'y' 'z']\n"
     ]
    }
   ],
   "source": [
    "# Unique labels\n",
    "unique = labels.label.unique()\n",
    "print(unique)"
   ],
   "metadata": {
    "collapsed": false,
    "pycharm": {
     "name": "#%%\n"
    }
   }
  },
  {
   "cell_type": "code",
   "execution_count": 59,
   "outputs": [
    {
     "name": "stdout",
     "output_type": "stream",
     "text": [
      "{'0': 0, '1': 1, '2': 2, '3': 3, '4': 4, '5': 5, '6': 6, '7': 7, '8': 8, '9': 9, 'A': 10, 'B': 11, 'C': 12, 'D': 13, 'E': 14, 'F': 15, 'G': 16, 'H': 17, 'I': 18, 'J': 19, 'K': 20, 'L': 21, 'M': 22, 'N': 23, 'O': 24, 'P': 25, 'Q': 26, 'R': 27, 'S': 28, 'T': 29, 'U': 30, 'V': 31, 'W': 32, 'X': 33, 'Y': 34, 'Z': 35, 'a': 36, 'b': 37, 'c': 38, 'd': 39, 'e': 40, 'f': 41, 'g': 42, 'h': 43, 'i': 44, 'j': 45, 'k': 46, 'l': 47, 'm': 48, 'n': 49, 'o': 50, 'p': 51, 'q': 52, 'r': 53, 's': 54, 't': 55, 'u': 56, 'v': 57, 'w': 58, 'x': 59, 'y': 60, 'z': 61}\n"
     ]
    }
   ],
   "source": [
    "# Create a dictonary with the unique labels\n",
    "label_dict = {k:v for v,k in enumerate(unique)}\n",
    "print(label_dict)"
   ],
   "metadata": {
    "collapsed": false,
    "pycharm": {
     "name": "#%%\n"
    }
   }
  },
  {
   "cell_type": "code",
   "execution_count": 60,
   "outputs": [
    {
     "data": {
      "text/plain": "                image  label\n0  Img/img001-001.png      0\n1  Img/img001-002.png      0\n2  Img/img001-003.png      0\n3  Img/img001-004.png      0\n4  Img/img001-005.png      0",
      "text/html": "<div>\n<style scoped>\n    .dataframe tbody tr th:only-of-type {\n        vertical-align: middle;\n    }\n\n    .dataframe tbody tr th {\n        vertical-align: top;\n    }\n\n    .dataframe thead th {\n        text-align: right;\n    }\n</style>\n<table border=\"1\" class=\"dataframe\">\n  <thead>\n    <tr style=\"text-align: right;\">\n      <th></th>\n      <th>image</th>\n      <th>label</th>\n    </tr>\n  </thead>\n  <tbody>\n    <tr>\n      <th>0</th>\n      <td>Img/img001-001.png</td>\n      <td>0</td>\n    </tr>\n    <tr>\n      <th>1</th>\n      <td>Img/img001-002.png</td>\n      <td>0</td>\n    </tr>\n    <tr>\n      <th>2</th>\n      <td>Img/img001-003.png</td>\n      <td>0</td>\n    </tr>\n    <tr>\n      <th>3</th>\n      <td>Img/img001-004.png</td>\n      <td>0</td>\n    </tr>\n    <tr>\n      <th>4</th>\n      <td>Img/img001-005.png</td>\n      <td>0</td>\n    </tr>\n  </tbody>\n</table>\n</div>"
     },
     "execution_count": 60,
     "metadata": {},
     "output_type": "execute_result"
    }
   ],
   "source": [
    "# Rename the labels\n",
    "labels['label'] = labels['label'].apply(lambda x: label_dict[x])\n",
    "labels.head()\n"
   ],
   "metadata": {
    "collapsed": false,
    "pycharm": {
     "name": "#%%\n"
    }
   }
  },
  {
   "cell_type": "code",
   "execution_count": 61,
   "outputs": [
    {
     "name": "stdout",
     "output_type": "stream",
     "text": [
      "[ 0  1  2  3  4  5  6  7  8  9 10 11 12 13 14 15 16 17 18 19 20 21 22 23\n",
      " 24 25 26 27 28 29 30 31 32 33 34 35 36 37 38 39 40 41 42 43 44 45 46 47\n",
      " 48 49 50 51 52 53 54 55 56 57 58 59 60 61]\n"
     ]
    }
   ],
   "source": [
    "# Unique labels\n",
    "unique = labels.label.unique()\n",
    "print(unique)\n"
   ],
   "metadata": {
    "collapsed": false,
    "pycharm": {
     "name": "#%%\n"
    }
   }
  },
  {
   "cell_type": "code",
   "execution_count": 62,
   "outputs": [
    {
     "name": "stdout",
     "output_type": "stream",
     "text": [
      "(3410, 900, 1200, 3)\n"
     ]
    }
   ],
   "source": [
    "\"\"\"\n",
    "Handling the images\n",
    "\"\"\"\n",
    "\n",
    "# Read images\n",
    "images = []\n",
    "for i in range(len(labels)):\n",
    "    img = cv2.imread('characters/' + labels.iloc[i]['image'])\n",
    "    images.append(img)\n",
    "images = np.array(images)\n",
    "print(images.shape)"
   ],
   "metadata": {
    "collapsed": false,
    "pycharm": {
     "name": "#%%\n"
    }
   }
  },
  {
   "cell_type": "code",
   "execution_count": 63,
   "outputs": [
    {
     "data": {
      "text/plain": "<Figure size 432x288 with 1 Axes>",
      "image/png": "[encoded data removed]"
     },
     "metadata": {
      "needs_background": "light"
     },
     "output_type": "display_data"
    }
   ],
   "source": [
    "# Function that plots a single image\n",
    "def plot_image(image):\n",
    "    plt.imshow(image)\n",
    "    plt.axis('off')\n",
    "    plt.show()\n",
    "\n",
    "plot_image(images[0])\n",
    "\n"
   ],
   "metadata": {
    "collapsed": false,
    "pycharm": {
     "name": "#%%\n"
    }
   }
  },
  {
   "cell_type": "code",
   "execution_count": 64,
   "outputs": [
    {
     "name": "stdout",
     "output_type": "stream",
     "text": [
      "(3410, 128, 128, 3)\n"
     ]
    }
   ],
   "source": [
    "# Resize the images to 128x128\n",
    "images_resized = []\n",
    "for image in images:\n",
    "    image_resized = cv2.resize(image, (128, 128))\n",
    "    images_resized.append(image_resized)\n",
    "images_resized = np.array(images_resized)\n",
    "print(images_resized.shape)"
   ],
   "metadata": {
    "collapsed": false,
    "pycharm": {
     "name": "#%%\n"
    }
   }
  },
  {
   "cell_type": "code",
   "execution_count": 65,
   "outputs": [
    {
     "data": {
      "text/plain": "<Figure size 432x288 with 1 Axes>",
      "image/png": "[encoded data removed]"
     },
     "metadata": {
      "needs_background": "light"
     },
     "output_type": "display_data"
    }
   ],
   "source": [
    "plot_image(images_resized[0])"
   ],
   "metadata": {
    "collapsed": false,
    "pycharm": {
     "name": "#%%\n"
    }
   }
  },
  {
   "cell_type": "code",
   "execution_count": 66,
   "outputs": [],
   "source": [
    "# Threshold images\n",
    "images_thresholded = []\n",
    "for image in images_resized:\n",
    "    new_image = cv2.threshold(image, 127, 255, cv2.THRESH_BINARY_INV)[1]\n",
    "    images_thresholded.append(new_image)"
   ],
   "metadata": {
    "collapsed": false,
    "pycharm": {
     "name": "#%%\n"
    }
   }
  },
  {
   "cell_type": "code",
   "execution_count": 67,
   "outputs": [
    {
     "data": {
      "text/plain": "<Figure size 432x288 with 1 Axes>",
      "image/png": "[encoded data removed]"
     },
     "metadata": {
      "needs_background": "light"
     },
     "output_type": "display_data"
    }
   ],
   "source": [
    "plot_image(images_thresholded[0])\n"
   ],
   "metadata": {
    "collapsed": false,
    "pycharm": {
     "name": "#%%\n"
    }
   }
  },
  {
   "cell_type": "code",
   "execution_count": 68,
   "outputs": [],
   "source": [
    "to_be_augmented = images_thresholded"
   ],
   "metadata": {
    "collapsed": false,
    "pycharm": {
     "name": "#%%\n"
    }
   }
  },
  {
   "cell_type": "markdown",
   "source": [
    "## Augmenting"
   ],
   "metadata": {
    "collapsed": false,
    "pycharm": {
     "name": "#%% md\n"
    }
   }
  },
  {
   "cell_type": "code",
   "execution_count": 69,
   "outputs": [],
   "source": [
    "# Function to write image to dictionary\n",
    "def write_image(writing_image, index):\n",
    "    #writing_image = writing_image / 255.0 # Normalizing\n",
    "    cv2.imwrite('augmented/images/' + str(index) + '.jpg', writing_image)\n",
    "\n",
    "# Creating dictionaries\n",
    "if os.path.exists(\"augmented\"):\n",
    "    shutil.rmtree(\"augmented\")\n",
    "os.mkdir(\"augmented\")\n",
    "os.mkdir(\"augmented/images\")\n",
    "\n",
    "\n",
    "\"\"\"\n",
    "Aaugmenting images\n",
    "\"\"\"\n",
    "labels_v1 = labels[\"label\"].values\n",
    "\n",
    "# For each image apply gaussian blur\n",
    "labels_v2 = []\n",
    "count = 0\n",
    "for image, label in zip(to_be_augmented, labels_v1):\n",
    "\n",
    "    # Save original image\n",
    "    write_image(image, count)\n",
    "    labels_v2.append(label)\n",
    "    count += 1\n",
    "\n",
    "    # Apply gaussian blur using imgaug\n",
    "    image_aug = iaa.GaussianBlur(sigma=(2.0, 6.0))(image=image)\n",
    "    write_image(image_aug, count)\n",
    "    labels_v2.append(label)\n",
    "    count += 1\n",
    "\n",
    "    # Apply gaussian noise using imgaug\n",
    "    image_aug = iaa.AdditiveGaussianNoise(scale=(0, 0.2*255), per_channel=True)(image=image)\n",
    "    write_image(image_aug, count)\n",
    "    labels_v2.append(label)\n",
    "    count += 1\n",
    "\n",
    "    # Apply rotation using imgaug\n",
    "    image_aug = iaa.Affine(rotate=(-70, -20))(image=image)\n",
    "    write_image(image_aug, count)\n",
    "    labels_v2.append(label)\n",
    "    count += 1\n",
    "\n",
    "     # Apply rotation using imgaug\n",
    "    image_aug = iaa.Affine(rotate=(20, 70))(image=image)\n",
    "    write_image(image_aug, count)\n",
    "    labels_v2.append(label)\n",
    "    count += 1\n",
    "\n",
    "    # Apply white cutout using imgaug\n",
    "    image_aug = iaa.Cutout(fill_mode=\"constant\", size=(0.02, 0.2), cval=255)(image=image)\n",
    "    write_image(image_aug, count)\n",
    "    labels_v2.append(label)\n",
    "    count += 1\n",
    "\n",
    "\n",
    "    # Apply scale using imgaug\n",
    "    image_aug = iaa.Affine(scale=(1.3, 2.0))(image=image)\n",
    "    write_image(image_aug, count)\n",
    "    labels_v2.append(label)\n",
    "    count += 1\n",
    "\n",
    "    # Apply padding using imgaug\n",
    "    image_aug = iaa.Pad(px=(10, 30))(image=image)\n",
    "    write_image(image_aug, count)\n",
    "    labels_v2.append(label)\n",
    "    count += 1\n",
    "\n",
    "    # Apply scale using imgaug\n",
    "    image_aug = iaa.Affine(translate_percent={\"x\": (-0.2, 0.2), \"y\": (-0.2, 0.2)})(image=image)\n",
    "    write_image(image_aug, count)\n",
    "    labels_v2.append(label)\n",
    "    count += 1\n",
    "\n",
    "    # Apply rotation and shear using imgaug\n",
    "    image_aug = iaa.Sequential([\n",
    "        iaa.Affine(rotate=(-40, 40)),\n",
    "        iaa.Affine(shear=(-20, 20))\n",
    "    ])(image=image)\n",
    "    write_image(image_aug, count)\n",
    "    labels_v2.append(label)\n",
    "    count += 1\n",
    "\n",
    "    # Apply white cutout and rotation using imgaug\n",
    "    image_aug = iaa.Sequential([\n",
    "        iaa.Cutout(fill_mode=\"constant\", size=(0.02, 0.2), cval=255),\n",
    "        iaa.Affine(rotate=(-40, 40))\n",
    "    ])(image=image)\n",
    "    write_image(image_aug, count)\n",
    "    labels_v2.append(label)\n",
    "    count += 1\n",
    "\n",
    "\n",
    "    # Apply gaussian noise and rotation using imgaug\n",
    "    image_aug = iaa.Sequential([\n",
    "        iaa.Affine(rotate=(-40, 40)),\n",
    "        iaa.AdditiveGaussianNoise(scale=(0, 0.2*255), per_channel=True),\n",
    "    ])(image=image)\n",
    "    write_image(image_aug, count)\n",
    "    labels_v2.append(label)\n",
    "    count += 1\n",
    "\n",
    "\n",
    "    # Apply gaussian noise and shear using imgaug\n",
    "    image_aug = iaa.Sequential([\n",
    "        iaa.Affine(shear=(-40, 40)),\n",
    "        iaa.AdditiveGaussianNoise(scale=(0, 0.2*255), per_channel=True),\n",
    "    ])(image=image)\n",
    "    write_image(image_aug, count)\n",
    "    labels_v2.append(label)\n",
    "    count += 1\n",
    "\n",
    "    # Apply scale and shear using imgaug\n",
    "    image_aug = iaa.Sequential([\n",
    "        iaa.Affine(scale=(1, 2.0)),\n",
    "        iaa.Affine(shear=(-40, 40))\n",
    "    ])(image=image)\n",
    "    write_image(image_aug, count)\n",
    "    labels_v2.append(label)\n",
    "    count += 1\n",
    "\n",
    "\n",
    "    # Apply scale, rotation, and gauusian blur using imgaug\n",
    "    image_aug = iaa.Sequential([\n",
    "        iaa.Affine(scale=(1, 2.0)),\n",
    "        iaa.Affine(rotate=(-40, 40)),\n",
    "        iaa.GaussianBlur(sigma=(2.0, 6.0)),\n",
    "    ])(image=image)\n",
    "    write_image(image_aug, count)\n",
    "    labels_v2.append(label)\n",
    "    count += 1\n",
    "\n",
    "    # Apply scale, shear, rotation, and gauusian blur using imgaug\n",
    "    image_aug = iaa.Sequential([\n",
    "        iaa.Affine(scale=(1, 2.0)),\n",
    "        iaa.Affine(shear=(-40, 40)),\n",
    "        iaa.Affine(rotate=(-40, 40)),\n",
    "        iaa.GaussianBlur(sigma=(2.0, 6.0)),\n",
    "    ])(image=image)\n",
    "    write_image(image_aug, count)\n",
    "    labels_v2.append(label)\n",
    "    count += 1\n",
    "\n",
    "    # Apply scale, shear, rotation blur using imgaug\n",
    "    image_aug = iaa.Sequential([\n",
    "        iaa.Affine(scale=(1, 2.0)),\n",
    "        iaa.Affine(shear=(-40, 40)),\n",
    "        iaa.GaussianBlur(sigma=(2.0, 6.0)),\n",
    "    ])(image=image)\n",
    "    write_image(image_aug, count)\n",
    "    labels_v2.append(label)\n",
    "    count += 1\n",
    "\n",
    "    # Apply gaussian noise and scale using imgaug\n",
    "    image_aug = iaa.Sequential([\n",
    "        iaa.Affine(scale=(1, 2.0)),\n",
    "        iaa.AdditiveGaussianNoise(scale=(0, 0.2*255), per_channel=True),\n",
    "    ])(image=image)\n",
    "    write_image(image_aug, count)\n",
    "    labels_v2.append(label)\n",
    "    count += 1\n",
    "\n",
    "    # Apply scale, rotation, and gaussian noise using imgaug\n",
    "    image_aug = iaa.Sequential([\n",
    "        iaa.Affine(scale=(1, 2.0)),\n",
    "        iaa.Affine(rotate=(-40, 40)),\n",
    "        iaa.AdditiveGaussianNoise(scale=(0, 0.2*255), per_channel=True),\n",
    "    ])(image=image)\n",
    "    write_image(image_aug, count)\n",
    "    labels_v2.append(label)\n",
    "    count += 1\n",
    "\n",
    "    # Apply scale, shear and gaussian noise using imgaug\n",
    "    image_aug = iaa.Sequential([\n",
    "        iaa.Affine(scale=(1, 2.0)),\n",
    "        iaa.Affine(shear=(-40, 40)),\n",
    "        iaa.AdditiveGaussianNoise(scale=(0, 0.2*255), per_channel=True),\n",
    "    ])(image=image)\n",
    "    write_image(image_aug, count)\n",
    "    labels_v2.append(label)\n",
    "    count += 1\n",
    "\n",
    "    # Apply scale, shear, rotation, and gaussian noise using imgaug\n",
    "    image_aug = iaa.Sequential([\n",
    "        iaa.Affine(scale=(1, 2.0)),\n",
    "        iaa.Affine(shear=(-40, 40)),\n",
    "        iaa.Affine(rotate=(-40, 40)),\n",
    "        iaa.AdditiveGaussianNoise(scale=(0, 0.2*255), per_channel=True),\n",
    "    ])(image=image)\n",
    "    write_image(image_aug, count)\n",
    "    labels_v2.append(label)\n",
    "    count += 1\n",
    "\n",
    "    # Apply scale and padding using imgaug\n",
    "    image_aug = iaa.Sequential([\n",
    "        iaa.Affine(scale=(1, 2.0)),\n",
    "        iaa.Pad(px=(10, 30))\n",
    "    ])(image=image)\n",
    "    write_image(image_aug, count)\n",
    "    labels_v2.append(label)\n",
    "    count += 1\n",
    "\n",
    "    # Apply scale and rotation using imgaug\n",
    "    image_aug = iaa.Sequential([\n",
    "        iaa.Affine(scale=(1, 2.0)),\n",
    "        iaa.Affine(rotate=(-40, 40))\n",
    "    ])(image=image)\n",
    "    write_image(image_aug, count)\n",
    "    labels_v2.append(label)\n",
    "    count += 1\n"
   ],
   "metadata": {
    "collapsed": false,
    "pycharm": {
     "name": "#%%\n"
    }
   }
  },
  {
   "cell_type": "markdown",
   "source": [
    "# Preprocessing 'Fnt'"
   ],
   "metadata": {
    "collapsed": false
   }
  },
  {
   "cell_type": "code",
   "execution_count": 71,
   "outputs": [
    {
     "data": {
      "text/plain": "<Figure size 432x288 with 1 Axes>",
      "image/png": "[encoded data removed]"
     },
     "metadata": {
      "needs_background": "light"
     },
     "output_type": "display_data"
    },
    {
     "name": "stdout",
     "output_type": "stream",
     "text": [
      "(128, 128, 3)\n"
     ]
    }
   ],
   "source": [
    "# Read one image from Fnt and display it\n",
    "test_image = cv2.imread(\"Fnt/Sample001/img001-00001.png\")\n",
    "plot_image(test_image)\n",
    "print(test_image.shape)\n"
   ],
   "metadata": {
    "collapsed": false,
    "pycharm": {
     "name": "#%%\n"
    }
   }
  },
  {
   "cell_type": "code",
   "execution_count": 72,
   "outputs": [],
   "source": [
    "# Read directory paths in 'Fnt'\n",
    "dir_paths = glob.glob(\"Fnt/*\")\n",
    "\n",
    "# Make sure its sorted\n",
    "dir_paths.sort(reverse=False)\n",
    "\n",
    "for label, dir_path in enumerate(dir_paths):\n",
    "    # Read image paths in directory\n",
    "    image_paths = glob.glob(dir_path + \"/*.png\")\n",
    "\n",
    "    for image_path in image_paths:\n",
    "        # Read image\n",
    "        image = cv2.imread(image_path)\n",
    "\n",
    "        # Resize image\n",
    "        #image = cv2.resize(image, (128, 128)) # They are already 128x128\n",
    "\n",
    "        # Threshold image\n",
    "        image = cv2.threshold(image, 127, 255, cv2.THRESH_BINARY_INV)[1]\n",
    "\n",
    "        # Save image\n",
    "        write_image(image, count)\n",
    "        labels_v2.append(label)\n",
    "        count += 1\n",
    "\n"
   ],
   "metadata": {
    "collapsed": false,
    "pycharm": {
     "name": "#%%\n"
    }
   }
  },
  {
   "cell_type": "code",
   "execution_count": 73,
   "outputs": [],
   "source": [
    "# Write labels to csv\n",
    "labels_v3 = pd.DataFrame({\"label\": labels_v2})\n",
    "labels_v3.to_csv(\"augmented/labels.csv\", index=False)\n"
   ],
   "metadata": {
    "collapsed": false,
    "pycharm": {
     "name": "#%%\n"
    }
   }
  },
  {
   "cell_type": "code",
   "execution_count": null,
   "outputs": [],
   "source": [],
   "metadata": {
    "collapsed": false,
    "pycharm": {
     "name": "#%%\n"
    }
   }
  }
 ],
 "metadata": {
  "kernelspec": {
   "display_name": "Python 3",
   "language": "python",
   "name": "python3"
  },
  "language_info": {
   "codemirror_mode": {
    "name": "ipython",
    "version": 2
   },
   "file_extension": ".py",
   "mimetype": "text/x-python",
   "name": "python",
   "nbconvert_exporter": "python",
   "pygments_lexer": "ipython2",
   "version": "2.7.6"
  }
 },
 "nbformat": 4,
 "nbformat_minor": 0
}