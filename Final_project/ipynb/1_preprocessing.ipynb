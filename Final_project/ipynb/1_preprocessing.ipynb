{
 "cells": [
  {
   "cell_type": "markdown",
   "metadata": {
    "collapsed": true,
    "pycharm": {
     "name": "#%% md\n"
    }
   },
   "source": [
    "# Imports"
   ]
  },
  {
   "cell_type": "code",
   "execution_count": 2,
   "outputs": [],
   "source": [
    "import glob\n",
    "import os\n",
    "import cv2\n",
    "import xml.etree.ElementTree as ET\n",
    "import shutil\n",
    "import pandas as pd\n",
    "import numpy as np\n",
    "import matplotlib.pyplot as plt"
   ],
   "metadata": {
    "collapsed": false,
    "pycharm": {
     "name": "#%%\n"
    }
   }
  },
  {
   "cell_type": "markdown",
   "source": [
    "# Preprocess 'documents'\n",
    "I wanted to train an object detector to detect characters in words. But there was no dataset containing only words.\n",
    "Therefore, I decided to crop words from some documents from this dataset: https://www.kaggle.com/datasets/shaz13/real-world-documents-collections\n",
    "\n",
    "The documents are in the 'documents' directory. I annotated words from them and down below cropped words from the documents\n",
    "using the annotations."
   ],
   "metadata": {
    "collapsed": false,
    "pycharm": {
     "name": "#%% md\n"
    }
   }
  },
  {
   "cell_type": "code",
   "execution_count": 3,
   "outputs": [
    {
     "name": "stdout",
     "output_type": "stream",
     "text": [
      "['documents\\\\0.jpg', 'documents\\\\1.jpg', 'documents\\\\2.jpg', 'documents\\\\3.jpg', 'documents\\\\4.jpg', 'documents\\\\5.jpg']\n",
      "['documents\\\\0.xml', 'documents\\\\1.xml', 'documents\\\\2.xml', 'documents\\\\3.xml', 'documents\\\\4.xml', 'documents\\\\5.xml']\n"
     ]
    }
   ],
   "source": [
    "\"\"\"\n",
    "Get paths to images and annotations\n",
    "\"\"\"\n",
    "\n",
    "# Paths\n",
    "path_documents = glob.glob('documents/*.jpg')\n",
    "path_annotations = glob.glob('documents/*.xml')\n",
    "print(path_documents)\n",
    "print(path_annotations)"
   ],
   "metadata": {
    "collapsed": false,
    "pycharm": {
     "name": "#%%\n"
    }
   }
  },
  {
   "cell_type": "code",
   "execution_count": 4,
   "outputs": [
    {
     "name": "stdout",
     "output_type": "stream",
     "text": [
      "(857,)\n"
     ]
    }
   ],
   "source": [
    "\"\"\"\n",
    "Using the annotated xml files crop the words out of the documents.\n",
    "\"\"\"\n",
    "\n",
    "# Read xml files in 'path_annotation' and return bounding boxes\n",
    "def read_xml(path_annotation):\n",
    "    # Read xml file\n",
    "    tree = ET.parse(path_annotation)\n",
    "    root = tree.getroot()\n",
    "    # Create list\n",
    "    list_bbox = []\n",
    "\n",
    "    # Get filename and bounding boxes coordinates\n",
    "    for obj in root.iter('object'):\n",
    "        xmin = obj.find('bndbox').find('xmin').text\n",
    "        ymin = obj.find('bndbox').find('ymin').text\n",
    "        xmax = obj.find('bndbox').find('xmax').text\n",
    "        ymax = obj.find('bndbox').find('ymax').text\n",
    "        list_bbox.append([xmin, ymin, xmax, ymax])\n",
    "    return list_bbox\n",
    "\n",
    "# Crop image using annotations\n",
    "def crop(image, bounding_box):\n",
    "    xmin = int(bounding_box[0])\n",
    "    ymin = int(bounding_box[1])\n",
    "    xmax = int(bounding_box[2])\n",
    "    ymax = int(bounding_box[3])\n",
    "    cropped_image = image[ymin:ymax, xmin:xmax]\n",
    "    return cropped_image\n",
    "\n",
    "# Read xmls and crop bounding boxes from images\n",
    "cropped_words = []\n",
    "for path_annotation, path_image in zip(path_annotations, path_documents):\n",
    "    # Read xml file\n",
    "    bounding_boxes = read_xml(path_annotation)\n",
    "    # Read image\n",
    "    image = cv2.imread(path_image)\n",
    "    # Crop bounding boxes from image\n",
    "    for bounding_box in bounding_boxes:\n",
    "        word = crop(image, bounding_box)\n",
    "        cropped_words.append(word)\n",
    "\n",
    "cropped_words = np.array(cropped_words, dtype=object)\n",
    "print(cropped_words.shape)"
   ],
   "metadata": {
    "collapsed": false,
    "pycharm": {
     "name": "#%%\n"
    }
   }
  },
  {
   "cell_type": "code",
   "execution_count": 5,
   "outputs": [
    {
     "data": {
      "text/plain": "<Figure size 432x288 with 1 Axes>",
      "image/png": "[encoded data removed]"
     },
     "metadata": {
      "needs_background": "light"
     },
     "output_type": "display_data"
    }
   ],
   "source": [
    "\"\"\"\n",
    "View a cropped word\n",
    "\"\"\"\n",
    "# Function to view a image\n",
    "def plot_image(image):\n",
    "    plt.imshow(image)\n",
    "    plt.axis('off')\n",
    "    plt.show()\n",
    "\n",
    "# View first image\n",
    "plot_image(cropped_words[0])\n"
   ],
   "metadata": {
    "collapsed": false,
    "pycharm": {
     "name": "#%%\n"
    }
   }
  },
  {
   "cell_type": "code",
   "execution_count": 6,
   "outputs": [
    {
     "name": "stdout",
     "output_type": "stream",
     "text": [
      "(857, 608, 608, 3)\n"
     ]
    }
   ],
   "source": [
    "\"\"\"\n",
    "Resize images to 608x608 to fit the object detection model\n",
    "\"\"\"\n",
    "resized_words = []\n",
    "for cropped_word in cropped_words:\n",
    "    resized_word = cv2.resize(cropped_word, (608, 608))\n",
    "    resized_words.append(resized_word)\n",
    "\n",
    "resized_words = np.array(resized_words)\n",
    "print(resized_words.shape)\n"
   ],
   "metadata": {
    "collapsed": false,
    "pycharm": {
     "name": "#%%\n"
    }
   }
  },
  {
   "cell_type": "code",
   "execution_count": 7,
   "outputs": [
    {
     "data": {
      "text/plain": "<Figure size 432x288 with 1 Axes>",
      "image/png": "[encoded data removed]"
     },
     "metadata": {
      "needs_background": "light"
     },
     "output_type": "display_data"
    }
   ],
   "source": [
    "\"\"\"\n",
    "View a resized word\n",
    "\"\"\"\n",
    "\n",
    "# View first image\n",
    "plot_image(resized_words[0])"
   ],
   "metadata": {
    "collapsed": false,
    "pycharm": {
     "name": "#%%\n"
    }
   }
  },
  {
   "cell_type": "code",
   "execution_count": 15,
   "outputs": [],
   "source": [
    "\"\"\"\n",
    "Threshold images to remove noise and make them binary.\n",
    "\"\"\"\n",
    "\n",
    "# Thresholding images\n",
    "thresholded_words = []\n",
    "for resized_word in resized_words:\n",
    "    thresholded_word = cv2.threshold(resized_word, 127, 255, cv2.THRESH_BINARY_INV)[1]\n",
    "    thresholded_words.append(thresholded_word)"
   ],
   "metadata": {
    "collapsed": false,
    "pycharm": {
     "name": "#%%\n"
    }
   }
  },
  {
   "cell_type": "code",
   "execution_count": 25,
   "outputs": [
    {
     "data": {
      "text/plain": "<Figure size 432x288 with 1 Axes>",
      "image/png": "[encoded data removed]"
     },
     "metadata": {
      "needs_background": "light"
     },
     "output_type": "display_data"
    }
   ],
   "source": [
    "\"\"\"\n",
    "View first thresholded word\n",
    "\"\"\"\n",
    "\n",
    "# View first image\n",
    "plot_image(thresholded_words[0])"
   ],
   "metadata": {
    "collapsed": false,
    "pycharm": {
     "name": "#%%\n"
    }
   }
  },
  {
   "cell_type": "code",
   "execution_count": 27,
   "outputs": [],
   "source": [
    "# Taking the first 400 words\n",
    "images_to_save = thresholded_words[:400]"
   ],
   "metadata": {
    "collapsed": false,
    "pycharm": {
     "name": "#%%\n"
    }
   }
  },
  {
   "cell_type": "code",
   "execution_count": 28,
   "outputs": [],
   "source": [
    "\"\"\"\n",
    "Saving images to 'words' directory\n",
    "\"\"\"\n",
    "\n",
    "# Directory management\n",
    "if not os.path.exists('words'):\n",
    "    os.makedirs('words')\n",
    "if not os.path.exists('words/annotations'):\n",
    "    os.makedirs('words/annotations')\n",
    "\n",
    "if os.path.exists('words/images'):\n",
    "    shutil.rmtree('words/images')\n",
    "os.makedirs('words/images')\n",
    "\n",
    "# Save images\n",
    "for index, image in enumerate(images_to_save):\n",
    "    cv2.imwrite('words/images/' + str(index) + '.jpg', image)"
   ],
   "metadata": {
    "collapsed": false,
    "pycharm": {
     "name": "#%%\n"
    }
   }
  },
  {
   "cell_type": "markdown",
   "source": [
    "# Preprocess 'words'\n",
    "I had then created a dataset containing only words. I wanted to train an object detector to detect characters in words.\n",
    "So I labeled them (in yolo format) and saved the annotations to 'words/annotations' directory.\n",
    "\n",
    "Then I split the data into training, validation and test sets as shown in the 'words_v2' directory. I also created a\n",
    "data.yaml file to describe the dataset to the object detection model.\n",
    "\n"
   ],
   "metadata": {
    "collapsed": false,
    "pycharm": {
     "name": "#%% md\n"
    }
   }
  }
 ],
 "metadata": {
  "kernelspec": {
   "display_name": "Python 3",
   "language": "python",
   "name": "python3"
  },
  "language_info": {
   "codemirror_mode": {
    "name": "ipython",
    "version": 2
   },
   "file_extension": ".py",
   "mimetype": "text/x-python",
   "name": "python",
   "nbconvert_exporter": "python",
   "pygments_lexer": "ipython2",
   "version": "2.7.6"
  }
 },
 "nbformat": 4,
 "nbformat_minor": 0
}